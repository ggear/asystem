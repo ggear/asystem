{
    "cells":
    [
        {
            "metadata":
            {
                "ExecuteTime":
                {
                    "end_time": "2024-11-15T09:50:11.307627Z",
                    "start_time": "2024-11-15T09:50:10.626113Z"
                }
            },
            "cell_type": "code",
            "source":
            [
                "from importlib import reload\n",
                "\n",
                "import library\n",
                "\n",
                "reload(library)\n",
                "from library import *\n",
                "\n",
                "env = init_env()"
            ],
            "id": "a11463c79e9cc5c1",
            "outputs":
            [],
            "execution_count": 1
        },
        {
            "metadata":
            {
                "ExecuteTime":
                {
                    "end_time": "2024-11-15T09:50:17.104855Z",
                    "start_time": "2024-11-15T09:50:15.333021Z"
                }
            },
            "cell_type": "code",
            "source":
            [
                "import mlflow\n",
                "\n",
                "mlflow.set_tracking_uri(\"https://mlflow.janeandgraham.com\")\n",
                "mlflow.set_registry_uri(\"https://mlflow.janeandgraham.com\")\n",
                "experiment = mlflow.set_experiment(\"A Model Test\")\n",
                "mlflow.set_tag(\"serving_status\", \"testing\")\n",
                "mlflow.set_tag(\"serving_port\", 90000 + int(experiment.experiment_id))\n",
                "mlflow.autolog()"
            ],
            "id": "b567ddc55febc228",
            "outputs":
            [],
            "execution_count": 2
        },
        {
            "metadata":
            {
                "ExecuteTime":
                {
                    "end_time": "2024-11-15T09:48:42.495470Z",
                    "start_time": "2024-11-15T09:48:42.354305Z"
                }
            },
            "cell_type": "code",
            "source":
            [
                "mlflow.end_run()\n",
                "\n",
                "\n",
                "run = mlflow.start_run()\n",
                "print(mlflow.active_run().info.run_id)\n",
                "mlflow.end_run()\n"
            ],
            "id": "e82cfc87796dbef3",
            "outputs":
            [
                {
                    "name": "stderr",
                    "output_type": "stream",
                    "text":
                    [
                        "2024/11/15 17:48:42 INFO mlflow.tracking._tracking_service.client: 🏃 View run beautiful-moose-582 at: https://mlflow.janeandgraham.com/#/experiments/1/runs/5281e1bac9344c34bf2ab16c4a678bd3.\n",
                        "2024/11/15 17:48:42 INFO mlflow.tracking._tracking_service.client: 🧪 View experiment at: https://mlflow.janeandgraham.com/#/experiments/1.\n"
                    ]
                },
                {
                    "name": "stdout",
                    "output_type": "stream",
                    "text":
                    [
                        "5281e1bac9344c34bf2ab16c4a678bd3\n"
                    ]
                }
            ],
            "execution_count": 153
        },
        {
            "metadata":
            {
                "ExecuteTime":
                {
                    "end_time": "2024-11-15T09:53:34.971650Z",
                    "start_time": "2024-11-15T09:53:31.296759Z"
                }
            },
            "cell_type": "code",
            "source":
            [
                "from sklearn.datasets import load_diabetes\n",
                "from sklearn.ensemble import RandomForestRegressor\n",
                "from sklearn.model_selection import train_test_split\n",
                "\n",
                "# run = mlflow.start_run()\n",
                "# print(mlflow.active_run().info.run_id)\n",
                "with mlflow.start_run():\n",
                "  db = load_diabetes()\n",
                "\n",
                "  X_train, X_test, y_train, y_test = train_test_split(db.data, db.target)\n",
                "\n",
                "  # Create and train models.\n",
                "  rf = RandomForestRegressor(n_estimators=100, max_depth=6, max_features=3)\n",
                "  rf.fit(X_train, y_train)\n",
                "\n",
                "  # Use the model to make predictions on the test dataset.\n",
                "  predictions = rf.predict(X_test)\n",
                "\n",
                "# mlflow.end_run()\n",
                "\n",
                "\n",
                "\n",
                "# result = mlflow.register_model(\"runs:/\"+run.info.run_id, \"a-model-test\")\n"
            ],
            "id": "cd255911abc67564",
            "outputs":
            [
                {
                    "name": "stderr",
                    "output_type": "stream",
                    "text":
                    [
                        "2024/11/15 17:53:34 INFO mlflow.tracking._tracking_service.client: 🏃 View run luxuriant-rook-144 at: https://mlflow.janeandgraham.com/#/experiments/1/runs/12ea1df8cfe24ab1846532afd7b71f2e.\n",
                        "2024/11/15 17:53:34 INFO mlflow.tracking._tracking_service.client: 🧪 View experiment at: https://mlflow.janeandgraham.com/#/experiments/1.\n"
                    ]
                }
            ],
            "execution_count": 11
        },
        {
            "metadata":
            {
                "ExecuteTime":
                {
                    "end_time": "2024-11-15T09:15:44.154385Z",
                    "start_time": "2024-11-15T09:15:44.140101Z"
                }
            },
            "cell_type": "code",
            "source":
            [
                "mlflow.end_run()\n",
                "\n",
                "\n",
                "\n",
                "\n",
                "for m in mlflow.search_model_versions(filter_string=\"name = 'a-model-test'\"):\n",
                "  print(\"{}={}\".format(m.name, m.version))\n",
                "\n"
            ],
            "id": "9a3e00418a3bbb99",
            "outputs":
            [
                {
                    "ename": "TypeError",
                    "evalue": "get_run() missing 1 required positional argument: 'run_id'",
                    "output_type": "error",
                    "traceback":
                    [
                        "\u001b[0;31m---------------------------------------------------------------------------\u001b[0m",
                        "\u001b[0;31mTypeError\u001b[0m                                 Traceback (most recent call last)",
                        "Cell \u001b[0;32mIn[75], line 1\u001b[0m\n\u001b[0;32m----> 1\u001b[0m \u001b[43mmlflow\u001b[49m\u001b[38;5;241;43m.\u001b[39;49m\u001b[43mget_run\u001b[49m\u001b[43m(\u001b[49m\u001b[43m)\u001b[49m\n\u001b[1;32m      4\u001b[0m result \u001b[38;5;241m=\u001b[39m mlflow\u001b[38;5;241m.\u001b[39mregister_model(\u001b[38;5;124m\"\u001b[39m\u001b[38;5;124mruns:/29bb81a2a7a44a5394ebd276bf64bcdc/sklearn-model\u001b[39m\u001b[38;5;124m\"\u001b[39m, \u001b[38;5;124m\"\u001b[39m\u001b[38;5;124ma-model-test\u001b[39m\u001b[38;5;124m\"\u001b[39m)\n\u001b[1;32m      6\u001b[0m \u001b[38;5;28;01mfor\u001b[39;00m m \u001b[38;5;129;01min\u001b[39;00m mlflow\u001b[38;5;241m.\u001b[39msearch_model_versions(filter_string\u001b[38;5;241m=\u001b[39m\u001b[38;5;124m\"\u001b[39m\u001b[38;5;124mname = \u001b[39m\u001b[38;5;124m'\u001b[39m\u001b[38;5;124ma-model-test\u001b[39m\u001b[38;5;124m'\u001b[39m\u001b[38;5;124m\"\u001b[39m):\n",
                        "\u001b[0;31mTypeError\u001b[0m: get_run() missing 1 required positional argument: 'run_id'"
                    ]
                }
            ],
            "execution_count": 75
        }
    ],
    "metadata":
    {
        "kernelspec":
        {
            "name": "python3",
            "language": "python",
            "display_name": "Python 3 (ipykernel)"
        }
    },
    "nbformat": 5,
    "nbformat_minor": 9
}